{
 "cells": [
  {
   "attachments": {},
   "cell_type": "markdown",
   "id": "67b47c62",
   "metadata": {},
   "source": [
    "# My Jupyter Notebook on Data Science"
   ]
  },
  {
   "attachments": {},
   "cell_type": "markdown",
   "id": "b1f6960c",
   "metadata": {},
   "source": [
    "## Introduction to Data Science\n",
    "Data Science is the study of large quantities of data, which can reveal insights that help organisations make strategic choices.\n",
    "Data Science can help organizations:\n",
    "1. Understand their Environments.\n",
    "2. Analyze existing issues.\n",
    "3. Reveal previously hidden opportunities."
   ]
  },
  {
   "attachments": {},
   "cell_type": "markdown",
   "id": "63134ed8",
   "metadata": {},
   "source": [
    "## Data Science Languages\n",
    "The Popular languages of Data Science are Python, R, SQL, Scala, Java, C++ and Julia.\n",
    "\n",
    "### Python \n",
    "Python is the most widely used and most popular programming language used in the Data Science.\n",
    "It is general purpose Language.\n",
    "It has large Standard Library.\n",
    "For Data Science, it Has scientific computing libraries like Pandas, NumPy, SciPy and Matplotlib.\n",
    "For AI, it has libraries like TensorFlow, PyTorch, Keras and Scikit-learn\n",
    "It Can be used for Natural Language Processing (NLP) using Natural Language Toolkit (NLKTK)\n",
    "\n",
    "### R\n",
    "Pyhon is Open Source And R is free Software.\n",
    "R languages's array-oriented syntax makes it easier to translate from math to code for learners with no or minimal programming background.\n",
    "R has become the world's largest repository of statistical knowledge.\n",
    "It Integrates well with other computer languages like C++, Java, C, .Net and Python.\n",
    "It has stronger object-oriented programming facilities.\n",
    "\n",
    "### SQL\n",
    "SQL=Structured Query Language\n",
    "It is useful in handling structured data.\n",
    "The SQL language is subdivided into several language elements including Clauses, Expressions, Predicates, Queries, and Statements.\n",
    "It speeds up workflow executions.\n",
    "It acts as an interpreter between user and the database.\n",
    "It enables user to apply SQL knowledge with other databases.\n",
    "\n",
    "### Other Languages\n",
    "Data Science tools built with Java include Weka, Java-ML, Apache MLlib and Deeplearnig4\n",
    "For Data Science, popular program built with Scala is Apache Spark that inclues Shark, MLlib.GraphX and Spark Streaming.\n",
    "For Data Science, TenserFlow, MongoDB and Caffe were built with c++.\n",
    "Programs built for Data Science with JavaScript include TenserFlow.js and R-js.\n",
    "Application of Julia for Data Science is JuliaDB.  "
   ]
  },
  {
   "attachments": {},
   "cell_type": "markdown",
   "id": "a8f49479",
   "metadata": {},
   "source": [
    "## Data Science Libraries\n",
    "\n",
    "### Scientific Computing Libraries in Python\n",
    "\n",
    "1. Pandas-\n",
    "Pandas Offers data structures and tools for effective data cleaning, manipulation and analysis. It provides tools to work with different types of Data.The primary instrument of Pandas is a 2-D table consisting of Columns and Rows, called Data Frame.\n",
    "\n",
    "2. NumPy-\n",
    "NumPy libraries are based on arrays and matrices, allowing you to apply mathematical functions to the arrays.\n",
    "\n",
    "Pandas is built on top of NumPy. it can be used for data visualization methods to communicate with others and display meaningful results of an analysis. These libraries enables us to create graphs, charts and map.\n",
    "\n",
    "### Visualization Libraries in Python\n",
    "\n",
    "1. Matplotlib-\n",
    "Matplotlib is a comprehensive library for creating static, animated and interactive visulizations in Python.\n",
    "\n",
    "2. Seaborn-\n",
    "Seaborn is an open-source Python library built on top of matplotlib. It is used for data visualization and exploratory data analysis.\n",
    "\n",
    "### Machine Learning and Deep Learning Libraries in Python\n",
    "\n",
    "1. Scikit-learn-\n",
    "For ML, the Scikit-learn library contains tools for statistical modeling including regression, classification, clustering and so on.\n",
    "\n",
    "2. Keras-\n",
    "Keras is an open-source high-level Neural Network library, which is written in Python is capable enough to run on Theano, tensorFlow or CNTK\n",
    "\n",
    "### Deep Learning Libraries in Python\n",
    "\n",
    "1. TensorFlow-\n",
    "TensorFlow is a Python library for fast numerical computing. It can be used to create Deep Learning models directly or by using wrapper libraries that simplify the process built on top of TensorFlow.\n",
    "\n",
    "2. PyTorch-\n",
    "PyTorch is a fully featured framework for building deep learning models, which is a type of machine learning that's commonly used in applications like image recognition and language processing.\n",
    "\n",
    "### Libraries used in Other Languages\n",
    "\n",
    "1. Apache Spark-\n",
    "Apache Spark is general-purpose cluster-computing framework allowing you to process data using compute clusters.\n",
    "2. Scala libraries\n",
    "3. R libraries\n"
   ]
  },
  {
   "attachments": {},
   "cell_type": "markdown",
   "id": "85ff464f",
   "metadata": {},
   "source": [
    "## Tools used in Data Science \n",
    "\n",
    "|Sr. No.|Tools|\n",
    "|-------|-------|\n",
    "|01| Apache Hadoop |\n",
    "|02| SAS ( Statistical Analysis System |\n",
    "|03| Apache Spark |\n",
    "|04| Tableau |\n",
    "|05| BigML |\n",
    "|06| TensorFlow |\n",
    "|07| Jupyter |\n",
    "|08| Microsoft Power BI |\n",
    "|09| Knime |\n",
    "|10| Snowflake |"
   ]
  },
  {
   "attachments": {},
   "cell_type": "markdown",
   "id": "a8ca5983",
   "metadata": {},
   "source": [
    "## Arithmetic Expression\n",
    "\n",
    "To insert in-line math use the Dollar Symbol within Markdown Cell, i.e. start the expression with Dollar Symbol and end it with Dollar Symbol.\n",
    "\n",
    "### Examples\n",
    "\n",
    "$$\n",
    "  \\int_0^\\infty \\frac{1}{x}\\,dx = ln|x|+C\n",
    "$$\n",
    "\n",
    "$$\n",
    "  Y = \\sqrt{3x-1}+{(1+x)}^2\n",
    "$$"
   ]
  },
  {
   "cell_type": "code",
   "execution_count": 1,
   "id": "99ec366c",
   "metadata": {},
   "outputs": [
    {
     "data": {
      "text/plain": [
       "152"
      ]
     },
     "execution_count": 1,
     "metadata": {},
     "output_type": "execute_result"
    }
   ],
   "source": [
    "# Multiplication Operation\n",
    "76*2"
   ]
  },
  {
   "cell_type": "code",
   "execution_count": 2,
   "id": "1675fc19",
   "metadata": {},
   "outputs": [
    {
     "data": {
      "text/plain": [
       "265"
      ]
     },
     "execution_count": 2,
     "metadata": {},
     "output_type": "execute_result"
    }
   ],
   "source": [
    "# Addition Operation\n",
    "167+98"
   ]
  },
  {
   "cell_type": "code",
   "execution_count": 1,
   "id": "de4e7ea2",
   "metadata": {},
   "outputs": [],
   "source": [
    "# Conversion of Minutes into Hour.\n",
    "\n",
    "s = int(input(\"Enter Minutes:\"))\n",
    "print(\" Hour : Minute \", int(s/60), \" : \", s % 60)"
   ]
  },
  {
   "attachments": {},
   "cell_type": "markdown",
   "id": "f2c11e3c",
   "metadata": {},
   "source": [
    "## Objectives\n",
    "\n",
    "The objective of this Notebook is to briefly introduce Data Science and its differnt components used in it. Like Languages Of Data Science, Tools of Data Science and Libraries of Data Science. Some Arithematic Expressions are created to demonstrate its usefulness to represent different elements in simplest form. ipykernel is used in code to convert minutes into Hour, which shows it is compatible to work with python and many other languages. This Notebook is created as an assignment for the Course: Tools for Data Science by IBM (Professional Certificate). "
   ]
  },
  {
   "attachments": {},
   "cell_type": "markdown",
   "id": "c09aa014",
   "metadata": {},
   "source": [
    "## Author\n",
    "#### Prasun Kumar\n",
    "B.Tech in Civil Engineering\n",
    "\n",
    "Intrested in Data Science as it provides diverse field to explore. I love telling story by finding insights from hidden data sets, which could be helping a hand to customers and organizations in Business Understanding. One more reason to be Intrested in Data Science is that it is the most sexiest job of 21st century. "
   ]
  }
 ],
 "metadata": {
  "kernelspec": {
   "display_name": "Python 3 (ipykernel)",
   "language": "python",
   "name": "python3"
  },
  "language_info": {
   "codemirror_mode": {
    "name": "ipython",
    "version": 3
   },
   "file_extension": ".py",
   "mimetype": "text/x-python",
   "name": "python",
   "nbconvert_exporter": "python",
   "pygments_lexer": "ipython3",
   "version": "3.11.2"
  }
 },
 "nbformat": 4,
 "nbformat_minor": 5
}
